{
 "cells": [
  {
   "cell_type": "markdown",
   "id": "d4bcaf62",
   "metadata": {},
   "source": [
    "Here, I calculate empirical frequencies of goals converted during penalty shootouts to estimate conditional likelihoods of success for both scoring and winning the match.\n",
    "\n"
   ]
  },
  {
   "cell_type": "code",
   "execution_count": 1,
   "id": "ec60dac2",
   "metadata": {},
   "outputs": [
    {
     "name": "stderr",
     "output_type": "stream",
     "text": [
      "\n",
      "Attaching package: ‘dplyr’\n",
      "\n",
      "\n",
      "The following objects are masked from ‘package:stats’:\n",
      "\n",
      "    filter, lag\n",
      "\n",
      "\n",
      "The following objects are masked from ‘package:base’:\n",
      "\n",
      "    intersect, setdiff, setequal, union\n",
      "\n",
      "\n",
      "Warning message:\n",
      "“package ‘ggjoy’ was built under R version 4.0.2”\n",
      "Loading required package: ggridges\n",
      "\n",
      "The ggjoy package has been deprecated. Please switch over to the\n",
      "ggridges package, which provides the same functionality. Porting\n",
      "guidelines can be found here:\n",
      "https://github.com/clauswilke/ggjoy/blob/master/README.md\n",
      "\n",
      "Warning message:\n",
      "“package ‘ggExtra’ was built under R version 4.0.5”\n",
      "\n",
      "Attaching package: ‘scales’\n",
      "\n",
      "\n",
      "The following object is masked from ‘package:purrr’:\n",
      "\n",
      "    discard\n",
      "\n",
      "\n"
     ]
    }
   ],
   "source": [
    "# dependencies\n",
    "library(dplyr) # to summarise data\n",
    "library(tidyr) # to recast data\n",
    "library(purrr) # for mapping to dataframes\n",
    "library(forcats) # for manipulating factors\n",
    "library(ggplot2) # for plotting\n",
    "library(ggjoy) # for density plots\n",
    "library(ggExtra) # for marginal histograms\n",
    "library(scales) # for plotting opacity"
   ]
  },
  {
   "cell_type": "code",
   "execution_count": 2,
   "id": "fffde4c3",
   "metadata": {},
   "outputs": [],
   "source": [
    "# read in data\n",
    "pk<-read.csv(\"../00_data/02_processed/pks.csv\",header=T)\n",
    "\n",
    "# set data types\n",
    "pk$match<-as.factor(pk$match)\n",
    "pk$take_first <- as.factor(pk$take_first)\n",
    "pk$sudden_death <- as.factor(pk$sudden_death)\n",
    "pk$could_win <- as.factor(pk$could_win)\n",
    "pk$must_survive <- as.factor(pk$must_survive)\n",
    "pk$match_winner <- as.factor(pk$match_winner)\n",
    "pk$neutral_stadium <- as.factor(pk$neutral_stadium)\n",
    "pk$attacker_home <- as.factor(pk$attacker_home)"
   ]
  },
  {
   "cell_type": "code",
   "execution_count": 3,
   "id": "af74da7c",
   "metadata": {},
   "outputs": [
    {
     "data": {
      "text/html": [
       "<table class=\"dataframe\">\n",
       "<caption>A data.frame: 6 × 25</caption>\n",
       "<thead>\n",
       "\t<tr><th></th><th scope=col>shot</th><th scope=col>match</th><th scope=col>tournament</th><th scope=col>round</th><th scope=col>date</th><th scope=col>attacker_team</th><th scope=col>gk_team</th><th scope=col>attacker</th><th scope=col>goalkeeper</th><th scope=col>goal</th><th scope=col>⋯</th><th scope=col>sudden_death</th><th scope=col>could_win</th><th scope=col>must_survive</th><th scope=col>running_score</th><th scope=col>running_dif</th><th scope=col>match_winner</th><th scope=col>neutral_stadium</th><th scope=col>attacker_home</th><th scope=col>game_data</th><th scope=col>additional</th></tr>\n",
       "\t<tr><th></th><th scope=col>&lt;int&gt;</th><th scope=col>&lt;fct&gt;</th><th scope=col>&lt;chr&gt;</th><th scope=col>&lt;chr&gt;</th><th scope=col>&lt;chr&gt;</th><th scope=col>&lt;chr&gt;</th><th scope=col>&lt;chr&gt;</th><th scope=col>&lt;chr&gt;</th><th scope=col>&lt;chr&gt;</th><th scope=col>&lt;dbl&gt;</th><th scope=col>⋯</th><th scope=col>&lt;fct&gt;</th><th scope=col>&lt;fct&gt;</th><th scope=col>&lt;fct&gt;</th><th scope=col>&lt;dbl&gt;</th><th scope=col>&lt;dbl&gt;</th><th scope=col>&lt;fct&gt;</th><th scope=col>&lt;fct&gt;</th><th scope=col>&lt;fct&gt;</th><th scope=col>&lt;chr&gt;</th><th scope=col>&lt;chr&gt;</th></tr>\n",
       "</thead>\n",
       "<tbody>\n",
       "\t<tr><th scope=row>1</th><td>0</td><td>1</td><td>WC</td><td>semi</td><td>8-Jul-1982</td><td>France</td><td>Germany</td><td>Alain Giresse      </td><td>Toni Schumacher</td><td>1</td><td>⋯</td><td>0</td><td>0</td><td>0</td><td>0</td><td>0</td><td>0</td><td>1</td><td>0</td><td>https://www.transfermarkt.us/spielbericht/index/spielbericht/965882</td><td></td></tr>\n",
       "\t<tr><th scope=row>2</th><td>1</td><td>1</td><td>WC</td><td>semi</td><td>8-Jul-1982</td><td>France</td><td>Germany</td><td>Manuel Amoros      </td><td>Toni Schumacher</td><td>1</td><td>⋯</td><td>0</td><td>0</td><td>0</td><td>1</td><td>0</td><td>0</td><td>1</td><td>0</td><td>https://www.transfermarkt.us/spielbericht/index/spielbericht/965882</td><td></td></tr>\n",
       "\t<tr><th scope=row>3</th><td>2</td><td>1</td><td>WC</td><td>semi</td><td>8-Jul-1982</td><td>France</td><td>Germany</td><td>Dominique Rocheteau</td><td>Toni Schumacher</td><td>1</td><td>⋯</td><td>0</td><td>0</td><td>0</td><td>2</td><td>0</td><td>0</td><td>1</td><td>0</td><td>https://www.transfermarkt.us/spielbericht/index/spielbericht/965882</td><td></td></tr>\n",
       "\t<tr><th scope=row>4</th><td>3</td><td>1</td><td>WC</td><td>semi</td><td>8-Jul-1982</td><td>France</td><td>Germany</td><td>Didier Six         </td><td>Toni Schumacher</td><td>0</td><td>⋯</td><td>0</td><td>0</td><td>0</td><td>3</td><td>1</td><td>0</td><td>1</td><td>0</td><td>https://www.transfermarkt.us/spielbericht/index/spielbericht/965882</td><td></td></tr>\n",
       "\t<tr><th scope=row>5</th><td>4</td><td>1</td><td>WC</td><td>semi</td><td>8-Jul-1982</td><td>France</td><td>Germany</td><td>Michel Platini     </td><td>Toni Schumacher</td><td>1</td><td>⋯</td><td>0</td><td>0</td><td>0</td><td>3</td><td>0</td><td>0</td><td>1</td><td>0</td><td>https://www.transfermarkt.us/spielbericht/index/spielbericht/965882</td><td></td></tr>\n",
       "\t<tr><th scope=row>6</th><td>5</td><td>1</td><td>WC</td><td>semi</td><td>8-Jul-1982</td><td>France</td><td>Germany</td><td>Maxime Bossis      </td><td>Toni Schumacher</td><td>0</td><td>⋯</td><td>1</td><td>0</td><td>0</td><td>4</td><td>0</td><td>0</td><td>1</td><td>0</td><td>https://www.transfermarkt.us/spielbericht/index/spielbericht/965882</td><td></td></tr>\n",
       "</tbody>\n",
       "</table>\n"
      ],
      "text/latex": [
       "A data.frame: 6 × 25\n",
       "\\begin{tabular}{r|lllllllllllllllllllll}\n",
       "  & shot & match & tournament & round & date & attacker\\_team & gk\\_team & attacker & goalkeeper & goal & ⋯ & sudden\\_death & could\\_win & must\\_survive & running\\_score & running\\_dif & match\\_winner & neutral\\_stadium & attacker\\_home & game\\_data & additional\\\\\n",
       "  & <int> & <fct> & <chr> & <chr> & <chr> & <chr> & <chr> & <chr> & <chr> & <dbl> & ⋯ & <fct> & <fct> & <fct> & <dbl> & <dbl> & <fct> & <fct> & <fct> & <chr> & <chr>\\\\\n",
       "\\hline\n",
       "\t1 & 0 & 1 & WC & semi & 8-Jul-1982 & France & Germany & Alain Giresse       & Toni Schumacher & 1 & ⋯ & 0 & 0 & 0 & 0 & 0 & 0 & 1 & 0 & https://www.transfermarkt.us/spielbericht/index/spielbericht/965882 & \\\\\n",
       "\t2 & 1 & 1 & WC & semi & 8-Jul-1982 & France & Germany & Manuel Amoros       & Toni Schumacher & 1 & ⋯ & 0 & 0 & 0 & 1 & 0 & 0 & 1 & 0 & https://www.transfermarkt.us/spielbericht/index/spielbericht/965882 & \\\\\n",
       "\t3 & 2 & 1 & WC & semi & 8-Jul-1982 & France & Germany & Dominique Rocheteau & Toni Schumacher & 1 & ⋯ & 0 & 0 & 0 & 2 & 0 & 0 & 1 & 0 & https://www.transfermarkt.us/spielbericht/index/spielbericht/965882 & \\\\\n",
       "\t4 & 3 & 1 & WC & semi & 8-Jul-1982 & France & Germany & Didier Six          & Toni Schumacher & 0 & ⋯ & 0 & 0 & 0 & 3 & 1 & 0 & 1 & 0 & https://www.transfermarkt.us/spielbericht/index/spielbericht/965882 & \\\\\n",
       "\t5 & 4 & 1 & WC & semi & 8-Jul-1982 & France & Germany & Michel Platini      & Toni Schumacher & 1 & ⋯ & 0 & 0 & 0 & 3 & 0 & 0 & 1 & 0 & https://www.transfermarkt.us/spielbericht/index/spielbericht/965882 & \\\\\n",
       "\t6 & 5 & 1 & WC & semi & 8-Jul-1982 & France & Germany & Maxime Bossis       & Toni Schumacher & 0 & ⋯ & 1 & 0 & 0 & 4 & 0 & 0 & 1 & 0 & https://www.transfermarkt.us/spielbericht/index/spielbericht/965882 & \\\\\n",
       "\\end{tabular}\n"
      ],
      "text/markdown": [
       "\n",
       "A data.frame: 6 × 25\n",
       "\n",
       "| <!--/--> | shot &lt;int&gt; | match &lt;fct&gt; | tournament &lt;chr&gt; | round &lt;chr&gt; | date &lt;chr&gt; | attacker_team &lt;chr&gt; | gk_team &lt;chr&gt; | attacker &lt;chr&gt; | goalkeeper &lt;chr&gt; | goal &lt;dbl&gt; | ⋯ ⋯ | sudden_death &lt;fct&gt; | could_win &lt;fct&gt; | must_survive &lt;fct&gt; | running_score &lt;dbl&gt; | running_dif &lt;dbl&gt; | match_winner &lt;fct&gt; | neutral_stadium &lt;fct&gt; | attacker_home &lt;fct&gt; | game_data &lt;chr&gt; | additional &lt;chr&gt; |\n",
       "|---|---|---|---|---|---|---|---|---|---|---|---|---|---|---|---|---|---|---|---|---|---|\n",
       "| 1 | 0 | 1 | WC | semi | 8-Jul-1982 | France | Germany | Alain Giresse       | Toni Schumacher | 1 | ⋯ | 0 | 0 | 0 | 0 | 0 | 0 | 1 | 0 | https://www.transfermarkt.us/spielbericht/index/spielbericht/965882 | <!----> |\n",
       "| 2 | 1 | 1 | WC | semi | 8-Jul-1982 | France | Germany | Manuel Amoros       | Toni Schumacher | 1 | ⋯ | 0 | 0 | 0 | 1 | 0 | 0 | 1 | 0 | https://www.transfermarkt.us/spielbericht/index/spielbericht/965882 | <!----> |\n",
       "| 3 | 2 | 1 | WC | semi | 8-Jul-1982 | France | Germany | Dominique Rocheteau | Toni Schumacher | 1 | ⋯ | 0 | 0 | 0 | 2 | 0 | 0 | 1 | 0 | https://www.transfermarkt.us/spielbericht/index/spielbericht/965882 | <!----> |\n",
       "| 4 | 3 | 1 | WC | semi | 8-Jul-1982 | France | Germany | Didier Six          | Toni Schumacher | 0 | ⋯ | 0 | 0 | 0 | 3 | 1 | 0 | 1 | 0 | https://www.transfermarkt.us/spielbericht/index/spielbericht/965882 | <!----> |\n",
       "| 5 | 4 | 1 | WC | semi | 8-Jul-1982 | France | Germany | Michel Platini      | Toni Schumacher | 1 | ⋯ | 0 | 0 | 0 | 3 | 0 | 0 | 1 | 0 | https://www.transfermarkt.us/spielbericht/index/spielbericht/965882 | <!----> |\n",
       "| 6 | 5 | 1 | WC | semi | 8-Jul-1982 | France | Germany | Maxime Bossis       | Toni Schumacher | 0 | ⋯ | 1 | 0 | 0 | 4 | 0 | 0 | 1 | 0 | https://www.transfermarkt.us/spielbericht/index/spielbericht/965882 | <!----> |\n",
       "\n"
      ],
      "text/plain": [
       "  shot match tournament round date       attacker_team gk_team\n",
       "1 0    1     WC         semi  8-Jul-1982 France        Germany\n",
       "2 1    1     WC         semi  8-Jul-1982 France        Germany\n",
       "3 2    1     WC         semi  8-Jul-1982 France        Germany\n",
       "4 3    1     WC         semi  8-Jul-1982 France        Germany\n",
       "5 4    1     WC         semi  8-Jul-1982 France        Germany\n",
       "6 5    1     WC         semi  8-Jul-1982 France        Germany\n",
       "  attacker            goalkeeper      goal ⋯ sudden_death could_win\n",
       "1 Alain Giresse       Toni Schumacher 1    ⋯ 0            0        \n",
       "2 Manuel Amoros       Toni Schumacher 1    ⋯ 0            0        \n",
       "3 Dominique Rocheteau Toni Schumacher 1    ⋯ 0            0        \n",
       "4 Didier Six          Toni Schumacher 0    ⋯ 0            0        \n",
       "5 Michel Platini      Toni Schumacher 1    ⋯ 0            0        \n",
       "6 Maxime Bossis       Toni Schumacher 0    ⋯ 1            0        \n",
       "  must_survive running_score running_dif match_winner neutral_stadium\n",
       "1 0            0             0           0            1              \n",
       "2 0            1             0           0            1              \n",
       "3 0            2             0           0            1              \n",
       "4 0            3             1           0            1              \n",
       "5 0            3             0           0            1              \n",
       "6 0            4             0           0            1              \n",
       "  attacker_home\n",
       "1 0            \n",
       "2 0            \n",
       "3 0            \n",
       "4 0            \n",
       "5 0            \n",
       "6 0            \n",
       "  game_data                                                          \n",
       "1 https://www.transfermarkt.us/spielbericht/index/spielbericht/965882\n",
       "2 https://www.transfermarkt.us/spielbericht/index/spielbericht/965882\n",
       "3 https://www.transfermarkt.us/spielbericht/index/spielbericht/965882\n",
       "4 https://www.transfermarkt.us/spielbericht/index/spielbericht/965882\n",
       "5 https://www.transfermarkt.us/spielbericht/index/spielbericht/965882\n",
       "6 https://www.transfermarkt.us/spielbericht/index/spielbericht/965882\n",
       "  additional\n",
       "1           \n",
       "2           \n",
       "3           \n",
       "4           \n",
       "5           \n",
       "6           "
      ]
     },
     "metadata": {},
     "output_type": "display_data"
    }
   ],
   "source": [
    "head(pk)"
   ]
  },
  {
   "cell_type": "markdown",
   "id": "9dec00bf",
   "metadata": {},
   "source": [
    "First, let's look at how long shootouts actually tend to last. They can last as few as three rounds, but there's also no upper limit to how long they could go. What is the distribution of shootout duration in historical matches?"
   ]
  },
  {
   "cell_type": "code",
   "execution_count": 4,
   "id": "7b432dc0",
   "metadata": {},
   "outputs": [
    {
     "data": {
      "text/plain": [
       "\n",
       "  1   2   3   4   5   6   7   8   9  10  11  12  13 \n",
       "600 600 600 575 368 137  76  58  32  14  14   6   4 "
      ]
     },
     "metadata": {},
     "output_type": "display_data"
    },
    {
     "data": {
      "image/png": "[encoded data removed]",
      "text/plain": [
       "Plot with title “Histogram of pk$shot_order”"
      ]
     },
     "metadata": {
      "image/png": {
       "height": 420,
       "width": 420
      }
     },
     "output_type": "display_data"
    }
   ],
   "source": [
    "# check shot frequencies\n",
    "table(pk$shot_order)\n",
    "hist(pk$shot_order,breaks=seq.int(0,(max(pk$shot_order))))"
   ]
  },
  {
   "cell_type": "markdown",
   "id": "81a10e1d",
   "metadata": {},
   "source": [
    "Not many shootouts last beyond the 9th round. We'll focus analyses on the first 9 rounds"
   ]
  },
  {
   "cell_type": "code",
   "execution_count": 5,
   "id": "77546af3",
   "metadata": {},
   "outputs": [],
   "source": [
    "# keep only first nine rounds\n",
    "pk <- pk[pk$shot_order<=9,]\n",
    "\n",
    "# now with the desired # of rounds selected, set shot_order as a factor\n",
    "pk$shot_order <- as.factor(pk$shot_order)\n",
    "\n",
    "# and subset the data by team (take_order)\n",
    "team_1 <- pk[pk$take_first==1,]\n",
    "team_2 <- pk[pk$take_first==0,]\n"
   ]
  },
  {
   "cell_type": "markdown",
   "id": "1c2af7d8",
   "metadata": {},
   "source": [
    "If we'd like to model penalty shots, we need to know if one model is appropriate for all shots. If shots are independent of one another (e.g., the outcome of shot 1 doesn't impact the outcome of shot 2) then one general model for all shots should suffice. \n",
    "\n",
    "So, are shots actually independent? This can be answered using a chi-squared test"
   ]
  },
  {
   "cell_type": "code",
   "execution_count": 6,
   "id": "818b4529",
   "metadata": {},
   "outputs": [],
   "source": [
    "# a function to test for independence based on conditional likelihoods:\n",
    "# returns a contingency table of empirical frequencies and \n",
    "# the results of a chi-squared test of independence\n",
    "\n",
    "shot_conds <- function(team1, # the team that takes the first shot of interest (1 or 2)\n",
    "                       shot1, # the shot order of the first shot of interest (1-9)\n",
    "                       team2, # the team that takes the second shot of interest (potentially conditional on shot1)\n",
    "                       shot2) # the shot order of the second shot of interest (potentially conditional on shot1)\n",
    "{\n",
    "  \n",
    "  # empty list to hold function output\n",
    "  output <- list()\n",
    "  \n",
    "  # create vectors of shot conversion for each shot of interest from all matches in the dataset\n",
    "  if (team1 == 1){\n",
    "    shot_1 <- team_1 %>% group_by(match) %>% summarise(goal[shot1])\n",
    "    shot_2 <- team_2 %>% group_by(match) %>% summarise(goal[shot2])\n",
    "  } else if (team1 == 2){\n",
    "    shot_1 <- team_2 %>% group_by(match) %>% summarise(goal[shot1]) \n",
    "    shot_2 <- team_1 %>% group_by(match) %>% summarise(goal[shot2]) \n",
    "  }\n",
    "  \n",
    "  # save to and return a dataframe\n",
    "  shots <- data.frame(shot_1 = shot_1$`goal[shot1]`, shot_2 = shot_2$`goal[shot2]`)\n",
    "  output$shot_table <- shots\n",
    "  \n",
    "  # return contingency tables of shot frequencies\n",
    "  shot_counts <- table(shots)\n",
    "  shot_freqs <- shot_counts/sum(shot_counts)\n",
    "  output$shot_counts <- shot_counts\n",
    "  output$shot_freqs <- shot_freqs\n",
    "  \n",
    "  # return chi-squared test results\n",
    "  output$chisq_results <- chisq.test(shots$shot_1, shots$shot_2)\n",
    "  \n",
    "  invisible(output)\n",
    "}"
   ]
  },
  {
   "cell_type": "code",
   "execution_count": 7,
   "id": "4a67a945",
   "metadata": {},
   "outputs": [
    {
     "data": {
      "text/html": [
       "0.622236585302442"
      ],
      "text/latex": [
       "0.622236585302442"
      ],
      "text/markdown": [
       "0.622236585302442"
      ],
      "text/plain": [
       "[1] 0.6222366"
      ]
     },
     "metadata": {},
     "output_type": "display_data"
    },
    {
     "data": {
      "text/html": [
       "1"
      ],
      "text/latex": [
       "1"
      ],
      "text/markdown": [
       "1"
      ],
      "text/plain": [
       "[1] 1"
      ]
     },
     "metadata": {},
     "output_type": "display_data"
    },
    {
     "data": {
      "text/html": [
       "0.0927927720544308"
      ],
      "text/latex": [
       "0.0927927720544308"
      ],
      "text/markdown": [
       "0.0927927720544308"
      ],
      "text/plain": [
       "[1] 0.09279277"
      ]
     },
     "metadata": {},
     "output_type": "display_data"
    },
    {
     "data": {
      "text/html": [
       "1"
      ],
      "text/latex": [
       "1"
      ],
      "text/markdown": [
       "1"
      ],
      "text/plain": [
       "[1] 1"
      ]
     },
     "metadata": {},
     "output_type": "display_data"
    },
    {
     "data": {
      "text/html": [
       "0.254573994788141"
      ],
      "text/latex": [
       "0.254573994788141"
      ],
      "text/markdown": [
       "0.254573994788141"
      ],
      "text/plain": [
       "[1] 0.254574"
      ]
     },
     "metadata": {},
     "output_type": "display_data"
    },
    {
     "data": {
      "text/html": [
       "0.188751840855052"
      ],
      "text/latex": [
       "0.188751840855052"
      ],
      "text/markdown": [
       "0.188751840855052"
      ],
      "text/plain": [
       "[1] 0.1887518"
      ]
     },
     "metadata": {},
     "output_type": "display_data"
    }
   ],
   "source": [
    "# does team 1's first shot influence team 2's first shot?\n",
    "t1s1_t2s1 <- shot_conds(1,1,2,1); t1s1_t2s1$chisq_results$p.value # no\n",
    "\n",
    "# does team 2's first shot influence team 1's second shot?\n",
    "t2s1_t1s2 <- shot_conds(2,1,1,2); t2s1_t1s2$chisq_results$p.value # no\n",
    "\n",
    "# does team 1's first shot influence team 1's second shot?\n",
    "t1s1_t1s2 <- shot_conds(1,1,1,2); t1s1_t1s2$chisq_results$p.value # no\n",
    "\n",
    "# does team 2's first shot influence team 2's second shot?\n",
    "t2s1_t2s2 <- shot_conds(2,1,2,2); t2s1_t2s2$chisq_results$p.value # no\n",
    "\n",
    "# does team 1's second shot influence team 2's second shot?\n",
    "t1s2_t2s2 <- shot_conds(1,2,2,2); t1s2_t2s2$chisq_results$p.value # no\n",
    "\n",
    "# does team 2's second shot influence team 1's third shot?\n",
    "t2s2_t1s3 <- shot_conds(2,2,1,3); t2s2_t1s3$chisq_results$p.value # no"
   ]
  },
  {
   "cell_type": "markdown",
   "id": "4b8c5657",
   "metadata": {},
   "source": [
    "It seems safe to say that consecutive shots are independent - the outcome of one shot does not influence the next attacker's chances of scoring the subsequent shot.\n",
    "\n",
    "So let's start calculating likelihoods"
   ]
  },
  {
   "cell_type": "markdown",
   "id": "3419a1de",
   "metadata": {},
   "source": [
    "### Likelihood estimation"
   ]
  },
  {
   "cell_type": "markdown",
   "id": "978a65ef",
   "metadata": {},
   "source": [
    "Let's use a binomial distribution to model shot success. We can think of a penalty shot as a Bernouli trial with probability of success *p*, which follows a binomial distribution.\n",
    "\n",
    "The likelihood is defined as the probability of the data given the model. Because penalty shots are independent trials, we can estimate the overall likelihood of the entire dataset by adding the log-likelihood values for each shot."
   ]
  },
  {
   "cell_type": "code",
   "execution_count": 8,
   "id": "15f2ab1d",
   "metadata": {},
   "outputs": [
    {
     "data": {
      "text/html": [
       "-2111.32631198559"
      ],
      "text/latex": [
       "-2111.32631198559"
      ],
      "text/markdown": [
       "-2111.32631198559"
      ],
      "text/plain": [
       "[1] -2111.326"
      ]
     },
     "metadata": {},
     "output_type": "display_data"
    }
   ],
   "source": [
    "# function to calculate log likelihood of a dataset\n",
    "log_likelihood <- function(par_p, par_N, data)\n",
    "{\n",
    "   logLik <- sum(dbinom(x = data, prob = par_p, size = par_N, log = T))\n",
    "   return(logLik)\n",
    "}\n",
    "\n",
    "# sample of all penalty shots\n",
    "all_shots <- pk$goal\n",
    "\n",
    "# calculate the log likelihood of all shots\n",
    "log_likelihood(par_p = 0.5, par_N = 1, data = all_shots)"
   ]
  },
  {
   "cell_type": "markdown",
   "id": "670efd83",
   "metadata": {},
   "source": [
    "Now let's estimate the maximum likelihood of *p* (that is, what is the most likely probability of scoring a goal in a penalty shootout?). To do so we need to find the model that most likely generated this dataset. "
   ]
  },
  {
   "cell_type": "markdown",
   "id": "86fd1b5d",
   "metadata": {},
   "source": [
    "To derive the maximum likelihood estimate of p, we evaluate the likelihood function for a sequence of parameter values using a fine step size. Note that the maximum of the log-likelihood is identical to the maximum of the likelihood, because the log-function is a monotonously increasing function."
   ]
  },
  {
   "cell_type": "code",
   "execution_count": 9,
   "id": "a8bd34cd",
   "metadata": {},
   "outputs": [
    {
     "data": {
      "text/html": [
       "0.73"
      ],
      "text/latex": [
       "0.73"
      ],
      "text/markdown": [
       "0.73"
      ],
      "text/plain": [
       "[1] 0.73"
      ]
     },
     "metadata": {},
     "output_type": "display_data"
    },
    {
     "data": {
      "text/html": [
       "0.729809586342745"
      ],
      "text/latex": [
       "0.729809586342745"
      ],
      "text/markdown": [
       "0.729809586342745"
      ],
      "text/plain": [
       "[1] 0.7298096"
      ]
     },
     "metadata": {},
     "output_type": "display_data"
    }
   ],
   "source": [
    "# vector of values for p\n",
    "p_vec <- seq(0, 1, by = 0.01)\n",
    "\n",
    "# vector of model log likelihoods\n",
    "pk_logLik <- sapply(p_vec, FUN = log_likelihood, par_N = 1, data = all_shots)\n",
    "\n",
    "# which model has tha maximum likelihood?\n",
    "pk_max <- which.max(pk_logLik)\n",
    "p_MLE <- p_vec[pk_max]\n",
    "\n",
    "# maximum likelihood of the data\n",
    "p_MLE\n",
    "\n",
    "# compare to the empirical frequency of converted goals\n",
    "mean(all_shots)"
   ]
  },
  {
   "cell_type": "markdown",
   "id": "c1d3292f",
   "metadata": {},
   "source": [
    "According to our model, there is a 73% likelihood of scoring a goal for a given shot in a penalty shootout. This is almost identical to the empirical frequency of converted goals: 72.98%"
   ]
  },
  {
   "cell_type": "code",
   "execution_count": 10,
   "id": "8427997d",
   "metadata": {},
   "outputs": [
    {
     "data": {
      "image/png": "[encoded data removed]",
      "text/plain": [
       "plot without title"
      ]
     },
     "metadata": {
      "image/png": {
       "height": 420,
       "width": 420
      }
     },
     "output_type": "display_data"
    }
   ],
   "source": [
    "# plot likelihood estimates and MLE\n",
    "plot(p_vec, pk_logLik, type = \"l\", lwd=2, xlab = \"goal probability\", ylab = \"log-Likelihood\", cex.lab=1.4)\n",
    "abline(v=p_MLE, lty=3, col=\"red\", lwd=3)\n",
    "points(p_MLE, max(pk_logLik), pch=16, col=\"red\", cex=2)\n",
    "text(0.68, -6500, \"Maximum likelihood estimate: 0.73\", srt=90, cex=1.4)"
   ]
  },
  {
   "cell_type": "markdown",
   "id": "484d5237",
   "metadata": {},
   "source": [
    "But does shot probability differ between high-stakes and low-stakes scenarios?"
   ]
  },
  {
   "cell_type": "code",
   "execution_count": 11,
   "id": "24c34a08",
   "metadata": {},
   "outputs": [
    {
     "data": {
      "text/plain": [
       "\n",
       "\tWelch Two Sample t-test\n",
       "\n",
       "data:  sd_high and sd_low\n",
       "t = -2.4689, df = 362.48, p-value = 0.01401\n",
       "alternative hypothesis: true difference in means is not equal to 0\n",
       "95 percent confidence interval:\n",
       " -0.12596740 -0.01426835\n",
       "sample estimates:\n",
       "mean of x mean of y \n",
       "0.6666667 0.7367845 \n"
      ]
     },
     "metadata": {},
     "output_type": "display_data"
    }
   ],
   "source": [
    "sd_high <- pk[pk$sudden_death==1,]$goal\n",
    "sd_low <- pk[pk$sudden_death!=1,]$goal\n",
    "t.test(sd_high, sd_low)"
   ]
  },
  {
   "cell_type": "code",
   "execution_count": 12,
   "id": "7698130b",
   "metadata": {},
   "outputs": [
    {
     "data": {
      "text/plain": [
       "\n",
       "\tWelch Two Sample t-test\n",
       "\n",
       "data:  cw_high and cw_low\n",
       "t = 0.33394, df = 301.1, p-value = 0.7387\n",
       "alternative hypothesis: true difference in means is not equal to 0\n",
       "95 percent confidence interval:\n",
       " -0.04736022  0.06671888\n",
       "sample estimates:\n",
       "mean of x mean of y \n",
       "0.7469880 0.7373086 \n"
      ]
     },
     "metadata": {},
     "output_type": "display_data"
    }
   ],
   "source": [
    "cw_high <- pk[pk$could_win==1,]$goal\n",
    "cw_low <- pk[pk$could_win!=1 & pk$must_survive!=1,]$goal\n",
    "t.test(cw_high, cw_low)"
   ]
  },
  {
   "cell_type": "code",
   "execution_count": 13,
   "id": "8ad96cdf",
   "metadata": {},
   "outputs": [
    {
     "data": {
      "text/plain": [
       "\n",
       "\tWelch Two Sample t-test\n",
       "\n",
       "data:  ms_high and ms_low\n",
       "t = -2.8421, df = 385.47, p-value = 0.00472\n",
       "alternative hypothesis: true difference in means is not equal to 0\n",
       "95 percent confidence interval:\n",
       " -0.13562348 -0.02470805\n",
       "sample estimates:\n",
       "mean of x mean of y \n",
       "0.6571429 0.7373086 \n"
      ]
     },
     "metadata": {},
     "output_type": "display_data"
    }
   ],
   "source": [
    "ms_high <- pk[pk$must_survive==1,]$goal\n",
    "ms_low <- pk[pk$must_survive!=1 & pk$could_win!=1,]$goal\n",
    "t.test(ms_high, ms_low)"
   ]
  },
  {
   "cell_type": "code",
   "execution_count": 14,
   "id": "4897364a",
   "metadata": {},
   "outputs": [],
   "source": [
    "stakes <- list('sd_high' = sd_high, 'sd_low' = sd_low, \n",
    "               'cw_high' = cw_high, 'cw_low' = cw_low, \n",
    "               'ms_high' = ms_high, 'ms_low' = ms_low)"
   ]
  },
  {
   "cell_type": "code",
   "execution_count": 15,
   "id": "c37e15ee",
   "metadata": {},
   "outputs": [
    {
     "data": {
      "text/html": [
       "<dl>\n",
       "\t<dt>$sd_high</dt>\n",
       "\t\t<dd>0.67</dd>\n",
       "\t<dt>$sd_low</dt>\n",
       "\t\t<dd>0.74</dd>\n",
       "\t<dt>$cw_high</dt>\n",
       "\t\t<dd>0.75</dd>\n",
       "\t<dt>$cw_low</dt>\n",
       "\t\t<dd>0.74</dd>\n",
       "\t<dt>$ms_high</dt>\n",
       "\t\t<dd>0.66</dd>\n",
       "\t<dt>$ms_low</dt>\n",
       "\t\t<dd>0.74</dd>\n",
       "</dl>\n"
      ],
      "text/latex": [
       "\\begin{description}\n",
       "\\item[\\$sd\\_high] 0.67\n",
       "\\item[\\$sd\\_low] 0.74\n",
       "\\item[\\$cw\\_high] 0.75\n",
       "\\item[\\$cw\\_low] 0.74\n",
       "\\item[\\$ms\\_high] 0.66\n",
       "\\item[\\$ms\\_low] 0.74\n",
       "\\end{description}\n"
      ],
      "text/markdown": [
       "$sd_high\n",
       ":   0.67\n",
       "$sd_low\n",
       ":   0.74\n",
       "$cw_high\n",
       ":   0.75\n",
       "$cw_low\n",
       ":   0.74\n",
       "$ms_high\n",
       ":   0.66\n",
       "$ms_low\n",
       ":   0.74\n",
       "\n",
       "\n"
      ],
      "text/plain": [
       "$sd_high\n",
       "[1] 0.67\n",
       "\n",
       "$sd_low\n",
       "[1] 0.74\n",
       "\n",
       "$cw_high\n",
       "[1] 0.75\n",
       "\n",
       "$cw_low\n",
       "[1] 0.74\n",
       "\n",
       "$ms_high\n",
       "[1] 0.66\n",
       "\n",
       "$ms_low\n",
       "[1] 0.74\n"
      ]
     },
     "metadata": {},
     "output_type": "display_data"
    }
   ],
   "source": [
    "# extend the log_likelihood function to return maximum likelihood estimates\n",
    "get_mle <- function(shots){\n",
    "    \n",
    "    # vector of possible goal probabilities\n",
    "    p_vec <- seq(0, 1, by = 0.01)\n",
    "\n",
    "    # vector of model log likelihoods\n",
    "    logLik <- sapply(p_vec, FUN = log_likelihood, par_N = 1, data = shots)\n",
    "\n",
    "    # maximum likelihood estimate\n",
    "    p_MLE <- p_vec[which.max(logLik)]\n",
    "    return(p_MLE)\n",
    "\n",
    "}\n",
    "\n",
    "# MLE's for different high/low stakes scenarios\n",
    "lapply(stakes, get_mle)"
   ]
  },
  {
   "cell_type": "markdown",
   "id": "5752c524",
   "metadata": {},
   "source": [
    "According to our model:\n",
    "- Sudden death shots are 7% less likely to be scored than best-of-five shots\n",
    "- Could-win shots are equally likely to be scored as lower stakes shots\n",
    "- Must-survive shots are 8% less likely to be scored than lower stakes shots"
   ]
  },
  {
   "cell_type": "code",
   "execution_count": null,
   "id": "c9a69882",
   "metadata": {},
   "outputs": [],
   "source": []
  }
 ],
 "metadata": {
  "kernelspec": {
   "display_name": "R",
   "language": "R",
   "name": "ir"
  },
  "language_info": {
   "codemirror_mode": "r",
   "file_extension": ".r",
   "mimetype": "text/x-r-source",
   "name": "R",
   "pygments_lexer": "r",
   "version": "4.0.0"
  }
 },
 "nbformat": 4,
 "nbformat_minor": 5
}
